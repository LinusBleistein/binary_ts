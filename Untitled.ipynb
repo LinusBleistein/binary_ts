{
 "cells": [
  {
   "cell_type": "code",
   "execution_count": 24,
   "id": "a4ca8f28",
   "metadata": {},
   "outputs": [],
   "source": [
    "import sys\n",
    "\n",
    "sys.path.append('/Documents-local/Thèse')"
   ]
  },
  {
   "cell_type": "code",
   "execution_count": 25,
   "id": "b48ea358",
   "metadata": {},
   "outputs": [
    {
     "ename": "ModuleNotFoundError",
     "evalue": "No module named 'Documents'",
     "output_type": "error",
     "traceback": [
      "\u001b[0;31m---------------------------------------------------------------------------\u001b[0m",
      "\u001b[0;31mModuleNotFoundError\u001b[0m                       Traceback (most recent call last)",
      "\u001b[0;32m<ipython-input-25-7fa36b368ea2>\u001b[0m in \u001b[0;36m<module>\u001b[0;34m\u001b[0m\n\u001b[0;32m----> 1\u001b[0;31m \u001b[0;32mfrom\u001b[0m \u001b[0mDocuments\u001b[0m\u001b[0;34m.\u001b[0m\u001b[0mThèse\u001b[0m \u001b[0;32mimport\u001b[0m \u001b[0msignatory\u001b[0m\u001b[0;34m\u001b[0m\u001b[0;34m\u001b[0m\u001b[0m\n\u001b[0m",
      "\u001b[0;31mModuleNotFoundError\u001b[0m: No module named 'Documents'"
     ]
    }
   ],
   "source": [
    "from Documents.Thèse import signatory"
   ]
  },
  {
   "cell_type": "code",
   "execution_count": null,
   "id": "ae3cf4ed",
   "metadata": {},
   "outputs": [],
   "source": []
  }
 ],
 "metadata": {
  "kernelspec": {
   "display_name": "Python 3",
   "language": "python",
   "name": "python3"
  },
  "language_info": {
   "codemirror_mode": {
    "name": "ipython",
    "version": 3
   },
   "file_extension": ".py",
   "mimetype": "text/x-python",
   "name": "python",
   "nbconvert_exporter": "python",
   "pygments_lexer": "ipython3",
   "version": "3.9.5"
  }
 },
 "nbformat": 4,
 "nbformat_minor": 5
}
