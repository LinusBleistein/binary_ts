{
 "cells": [
  {
   "cell_type": "code",
   "execution_count": 2,
   "metadata": {},
   "outputs": [],
   "source": [
    "import numpy as np\n",
    "import pandas as pd\n",
    "from IPython.display import display, HTML, Image\n",
    "from scipy.stats import ttest_ind_from_stats, spearmanr\n",
    "from sklearn.preprocessing import StandardScaler\n",
    "import scipy\n",
    "import scipy.stats as stats\n",
    "import matplotlib.pyplot as plt\n",
    "import seaborn as sns\n",
    " \n",
    "import tqdm\n",
    "import math\n",
    "from scipy.special import softmax,expit\n",
    "import torch\n",
    "%matplotlib inline\n",
    "from torch.autograd import Variable\n"
   ]
  },
  {
   "cell_type": "code",
   "execution_count": 3,
   "metadata": {},
   "outputs": [],
   "source": [
    "# autoreload sets up auto reloading of modified .py modules\n",
    "import autoreload\n",
    "%load_ext autoreload\n",
    "%autoreload 2\n",
    "from utils import *"
   ]
  },
  {
   "cell_type": "code",
   "execution_count": 16,
   "metadata": {},
   "outputs": [
    {
     "name": "stdout",
     "output_type": "stream",
     "text": [
      "Ready to go!\n"
     ]
    }
   ],
   "source": [
    "if torch.__version__ != '1.10.0':\n",
    "    print('You need to upgrade PyTorch before running this code.')\n",
    "\n",
    "else:\n",
    "    print('Ready to go!')"
   ]
  },
  {
   "cell_type": "markdown",
   "metadata": {},
   "source": [
    "# Optimization tests"
   ]
  },
  {
   "cell_type": "markdown",
   "metadata": {},
   "source": [
    "## Model specification"
   ]
  },
  {
   "cell_type": "code",
   "execution_count": 22,
   "metadata": {},
   "outputs": [],
   "source": [
    "d = 2\n",
    "T = 2\n",
    "N = 500"
   ]
  },
  {
   "cell_type": "code",
   "execution_count": 23,
   "metadata": {},
   "outputs": [
    {
     "name": "stdout",
     "output_type": "stream",
     "text": [
      "[[0.28911261 0.        ]\n",
      " [0.         0.45061475]]\n"
     ]
    }
   ],
   "source": [
    "true_A = np.identity(d) + np.random.randn(d,d)\n",
    "true_B = np.diag(np.random.uniform(low=-0.8,high=0.8,size=d)) \n",
    "\n",
    "#small_noise = 1/2*np.random.randn(1)\n",
    "true_sigma = np.diag(np.random.uniform(low=1,high=4,size=d)) \n",
    "sigma_inv = np.linalg.inv(true_sigma)\n",
    "print(sigma_inv) "
   ]
  },
  {
   "cell_type": "code",
   "execution_count": 24,
   "metadata": {},
   "outputs": [
    {
     "name": "stdout",
     "output_type": "stream",
     "text": [
      "[[ 1.05305706 -0.03530222]\n",
      " [ 0.58172068  0.99169431]]\n"
     ]
    }
   ],
   "source": [
    "print(true_A)"
   ]
  },
  {
   "cell_type": "code",
   "execution_count": 25,
   "metadata": {},
   "outputs": [],
   "source": [
    "x_data,z_data,p_data = simulation_binaryTS(d,T,N, true_A, true_B,sigma_inv)"
   ]
  },
  {
   "cell_type": "markdown",
   "metadata": {},
   "source": [
    "## CAVI"
   ]
  },
  {
   "cell_type": "markdown",
   "metadata": {},
   "source": [
    "This cell performs coordinate-wise gradient ascent, a standard method for maiximizing the ELBO in variational inference. "
   ]
  },
  {
   "cell_type": "code",
   "execution_count": 26,
   "metadata": {},
   "outputs": [
    {
     "name": "stdout",
     "output_type": "stream",
     "text": [
      "data shape: torch.Size([500, 2, 2])\n",
      "torch.Size([2, 2])\n",
      "torch.Size([2, 2])\n",
      "torch.Size([2, 1])\n",
      "-----------------------------------------\n",
      "---------------------------------\n",
      "--------------------------\n",
      "-------------------\n",
      "\n",
      "\n",
      "Block-CAVI initialization...\n",
      "\n",
      "\n",
      "--------Dimensions of the model--------\n",
      "T:  2\n",
      "d:  2\n",
      "N:  500\n",
      "\n",
      "\n",
      "-------- Optimization parameters --------\n",
      "\n",
      "\n",
      "Optimizer for A: Adam (\n",
      "Parameter Group 0\n",
      "    amsgrad: False\n",
      "    betas: (0.9, 0.999)\n",
      "    eps: 1e-08\n",
      "    lr: 0.01\n",
      "    weight_decay: 0\n",
      ")\n",
      "Optimizer for B: Adam (\n",
      "Parameter Group 0\n",
      "    amsgrad: False\n",
      "    betas: (0.9, 0.999)\n",
      "    eps: 1e-08\n",
      "    lr: 0.01\n",
      "    weight_decay: 0\n",
      ")\n",
      "Optimizer for sigma_inv: Adam (\n",
      "Parameter Group 0\n",
      "    amsgrad: False\n",
      "    betas: (0.9, 0.999)\n",
      "    eps: 1e-08\n",
      "    lr: 0.01\n",
      "    weight_decay: 0\n",
      ")\n",
      "Optimizer for mu: Adam (\n",
      "Parameter Group 0\n",
      "    amsgrad: False\n",
      "    betas: (0.9, 0.999)\n",
      "    eps: 1e-08\n",
      "    lr: 0.01\n",
      "    weight_decay: 0\n",
      ")\n",
      "Optimizer for nu: Adam (\n",
      "Parameter Group 0\n",
      "    amsgrad: False\n",
      "    betas: (0.9, 0.999)\n",
      "    eps: 1e-08\n",
      "    lr: 0.0001\n",
      "    weight_decay: 0\n",
      ")\n",
      "Optimizer for omega: Adam (\n",
      "Parameter Group 0\n",
      "    amsgrad: False\n",
      "    betas: (0.9, 0.999)\n",
      "    eps: 1e-08\n",
      "    lr: 0.0001\n",
      "    weight_decay: 0\n",
      ")\n",
      "\n",
      "\n",
      "-------------------\n",
      "--------------------------\n",
      "---------------------------------\n",
      "-----------------------------------------\n",
      "\n",
      "\n",
      "\n",
      "\n",
      "-------- TRAINING STARTS --------\n",
      "\n",
      "\n",
      "\n",
      "\n",
      "3.6254587\n",
      "---------- Iteration  10  ---------- \n",
      "Current ELBO value:  tensor(1.0416, grad_fn=<MulBackward0>)\n",
      "param A tensor([[ 1.7438,  0.2978],\n",
      "        [ 0.2799, -0.9532]], requires_grad=True)\n",
      "param B tensor([[-0.5681,  2.2336],\n",
      "        [ 0.8380,  0.0196]], requires_grad=True)\n",
      "param sigma_inv tensor([[ 0.3274, -0.1700],\n",
      "        [-0.1733,  0.3282]], requires_grad=True)\n",
      "param mu tensor([[0.7557, 0.8006],\n",
      "        [0.3759, 0.8692]], requires_grad=True)\n",
      "param nu tensor([[1.0016, 1.0015],\n",
      "        [1.0016, 1.0015]], requires_grad=True)\n",
      "param omega tensor([[0.9984],\n",
      "        [0.9984]], requires_grad=True)\n",
      "---------- Iteration  20  ---------- \n",
      "Current ELBO value:  tensor(nan, grad_fn=<MulBackward0>)\n",
      "param A tensor([[ 1.6296,  0.1740],\n",
      "        [ 0.4433, -0.8128]], requires_grad=True)\n",
      "param B tensor([[-0.3860,  2.1190],\n",
      "        [ 0.7300,  0.1963]], requires_grad=True)\n",
      "param sigma_inv tensor([[ 0.1829, -0.3305],\n",
      "        [-0.3405,  0.1824]], requires_grad=True)\n",
      "param mu tensor([[0.9028, 0.9444],\n",
      "        [0.2852, 1.0167]], requires_grad=True)\n",
      "param nu tensor([[1.0026, 1.0016],\n",
      "        [1.0026, 1.0016]], requires_grad=True)\n",
      "param omega tensor([[0.9975],\n",
      "        [0.9975]], requires_grad=True)\n",
      "---------- Iteration  30  ---------- \n",
      "Current ELBO value:  tensor(nan, grad_fn=<MulBackward0>)\n",
      "param A tensor([[ 1.5567,  0.0601],\n",
      "        [ 0.6084, -0.7077]], requires_grad=True)\n",
      "param B tensor([[-0.1602,  2.0867],\n",
      "        [ 0.7340,  0.4240]], requires_grad=True)\n",
      "param sigma_inv tensor([[ 0.0456, -0.5235],\n",
      "        [-0.5333,  0.0301]], requires_grad=True)\n",
      "param mu tensor([[1.0422, 1.0732],\n",
      "        [0.3205, 1.1450]], requires_grad=True)\n",
      "param nu tensor([[1.0022, 0.9999],\n",
      "        [1.0022, 0.9999]], requires_grad=True)\n",
      "param omega tensor([[0.9978],\n",
      "        [0.9978]], requires_grad=True)\n",
      "---------- Iteration  40  ---------- \n",
      "Current ELBO value:  tensor(nan, grad_fn=<MulBackward0>)\n",
      "param A tensor([[ 1.5574, -0.0367],\n",
      "        [ 0.8143, -0.6020]], requires_grad=True)\n",
      "param B tensor([[0.1035, 2.1885],\n",
      "        [0.9126, 0.6755]], requires_grad=True)\n",
      "param sigma_inv tensor([[-0.0982, -0.7478],\n",
      "        [-0.7495, -0.1509]], requires_grad=True)\n",
      "param mu tensor([[1.1891, 1.1813],\n",
      "        [0.5025, 1.2316]], requires_grad=True)\n",
      "param nu tensor([[1.0003, 0.9973],\n",
      "        [1.0003, 0.9973]], requires_grad=True)\n",
      "param omega tensor([[0.9998],\n",
      "        [0.9998]], requires_grad=True)\n",
      "---------- Iteration  50  ---------- \n",
      "Current ELBO value:  tensor(nan, grad_fn=<MulBackward0>)\n",
      "param A tensor([[ 1.7551,  0.0532],\n",
      "        [ 1.1006, -0.3629]], requires_grad=True)\n",
      "param B tensor([[0.4005, 2.4177],\n",
      "        [1.1966, 0.9493]], requires_grad=True)\n",
      "param sigma_inv tensor([[-0.2683, -1.0041],\n",
      "        [-0.9937, -0.3774]], requires_grad=True)\n",
      "param mu tensor([[1.3775, 1.2475],\n",
      "        [0.7774, 1.2044]], requires_grad=True)\n",
      "param nu tensor([[0.9975, 0.9944],\n",
      "        [0.9975, 0.9944]], requires_grad=True)\n",
      "param omega tensor([[1.0026],\n",
      "        [1.0026]], requires_grad=True)\n",
      "---------- Iteration  60  ---------- \n",
      "Current ELBO value:  tensor(nan, grad_fn=<MulBackward0>)\n",
      "param A tensor([[ 2.0889,  0.3798],\n",
      "        [ 1.4385, -0.0205]], requires_grad=True)\n",
      "param B tensor([[0.7214, 2.7124],\n",
      "        [1.5189, 1.2450]], requires_grad=True)\n",
      "param sigma_inv tensor([[-0.4819, -1.2921],\n",
      "        [-1.2702, -0.6505]], requires_grad=True)\n",
      "param mu tensor([[1.6507, 1.2039],\n",
      "        [1.1052, 0.9534]], requires_grad=True)\n",
      "param nu tensor([[0.9943, 0.9913],\n",
      "        [0.9943, 0.9913]], requires_grad=True)\n",
      "param omega tensor([[1.0058],\n",
      "        [1.0058]], requires_grad=True)\n",
      "---------- Iteration  70  ---------- \n",
      "Current ELBO value:  tensor(nan, grad_fn=<MulBackward0>)\n",
      "param A tensor([[2.4531, 0.7507],\n",
      "        [1.7986, 0.3473]], requires_grad=True)\n",
      "param B tensor([[1.0592, 3.0360],\n",
      "        [1.8595, 1.5596]], requires_grad=True)\n",
      "param sigma_inv tensor([[-0.7426, -1.6063],\n",
      "        [-1.5767, -0.9602]], requires_grad=True)\n",
      "param mu tensor([[1.9906, 0.9846],\n",
      "        [1.4598, 0.6040]], requires_grad=True)\n",
      "param nu tensor([[0.9908, 0.9880],\n",
      "        [0.9908, 0.9880]], requires_grad=True)\n",
      "param omega tensor([[1.0093],\n",
      "        [1.0093]], requires_grad=True)\n",
      "---------- Iteration  80  ---------- \n",
      "Current ELBO value:  tensor(nan, grad_fn=<MulBackward0>)\n",
      "param A tensor([[2.8274, 1.1306],\n",
      "        [2.1695, 0.7242]], requires_grad=True)\n",
      "param B tensor([[1.4088, 3.3751],\n",
      "        [2.2106, 1.8883]], requires_grad=True)\n",
      "param sigma_inv tensor([[-1.0404, -1.9388],\n",
      "        [-1.9045, -1.2932]], requires_grad=True)\n",
      "param mu tensor([[2.3589, 0.6558],\n",
      "        [1.8276, 0.2403]], requires_grad=True)\n",
      "param nu tensor([[0.9872, 0.9845],\n",
      "        [0.9872, 0.9845]], requires_grad=True)\n",
      "param omega tensor([[1.0128],\n",
      "        [1.0128]], requires_grad=True)\n",
      "---------- Iteration  90  ---------- \n",
      "Current ELBO value:  tensor(nan, grad_fn=<MulBackward0>)\n",
      "param A tensor([[3.2064, 1.5139],\n",
      "        [2.5456, 1.1050]], requires_grad=True)\n",
      "param B tensor([[1.7663, 3.7236],\n",
      "        [2.5682, 2.2270]], requires_grad=True)\n",
      "param sigma_inv tensor([[-1.3622, -2.2829],\n",
      "        [-2.2457, -1.6399]], requires_grad=True)\n",
      "param mu tensor([[ 2.7390,  0.2962],\n",
      "        [ 2.2028, -0.1236]], requires_grad=True)\n",
      "param nu tensor([[0.9836, 0.9809],\n",
      "        [0.9836, 0.9809]], requires_grad=True)\n",
      "param omega tensor([[1.0164],\n",
      "        [1.0164]], requires_grad=True)\n",
      "-------- TRAINING FINISHED IN  577.5235087871552  SECONDS --------\n"
     ]
    }
   ],
   "source": [
    "elbos,A,B,sigma_inv = block_cavi(x_data,R = 50)#,latent_lrs=[2e-3,2e-3,1e-3],mu_lr=5e-2,nu_lr=5e-2,omeg_lr=5e-2,max_iter=5000,its=10)#,batchsize=50)"
   ]
  },
  {
   "cell_type": "code",
   "execution_count": 18,
   "metadata": {},
   "outputs": [
    {
     "data": {
      "text/plain": [
       "[<matplotlib.lines.Line2D at 0x7fa9dc0c44f0>]"
      ]
     },
     "execution_count": 18,
     "metadata": {},
     "output_type": "execute_result"
    },
    {
     "data": {
      "image/png": "[encoded data removed]",
      "text/plain": [
       "<Figure size 432x288 with 1 Axes>"
      ]
     },
     "metadata": {
      "needs_background": "light"
     },
     "output_type": "display_data"
    }
   ],
   "source": [
    "plt.plot(elbos)"
   ]
  },
  {
   "cell_type": "code",
   "execution_count": 4,
   "metadata": {},
   "outputs": [],
   "source": [
    "rand_tens = torch.rand(4,4,requires_grad=True)\n",
    "test = torch.tensor([rand_tens[i,i]+2 for i in np.arange(4)])"
   ]
  },
  {
   "cell_type": "code",
   "execution_count": 6,
   "metadata": {},
   "outputs": [
    {
     "data": {
      "text/plain": [
       "False"
      ]
     },
     "execution_count": 6,
     "metadata": {},
     "output_type": "execute_result"
    }
   ],
   "source": [
    "test.requires_grad"
   ]
  },
  {
   "cell_type": "code",
   "execution_count": 9,
   "metadata": {},
   "outputs": [],
   "source": [
    "N=6\n",
    "d=3\n",
    "T=5"
   ]
  },
  {
   "cell_type": "code",
   "execution_count": 52,
   "metadata": {},
   "outputs": [],
   "source": [
    "mu_approx = torch.ones(N,d,T-1,requires_grad=True)\n",
    "sigma_inv = torch.ones(d,d,requires_grad=True)\n",
    "test = sum([torch.trace(mu_approx[i,:,:].T@sigma_inv@(mu_approx[i,:,:])) for i in np.arange(N)])"
   ]
  },
  {
   "cell_type": "code",
   "execution_count": 53,
   "metadata": {},
   "outputs": [],
   "source": [
    "A = torch.transpose(mu_approx,dim0=1,dim1=2)@sigma_inv@(mu_approx)"
   ]
  },
  {
   "cell_type": "code",
   "execution_count": 54,
   "metadata": {},
   "outputs": [],
   "source": [
    "A = A.diagonal(offset=0, dim1=-2, dim2=-1).sum(dim=[-1,0]) "
   ]
  },
  {
   "cell_type": "code",
   "execution_count": 56,
   "metadata": {},
   "outputs": [],
   "source": [
    "test.backward()"
   ]
  },
  {
   "cell_type": "code",
   "execution_count": 48,
   "metadata": {},
   "outputs": [],
   "source": [
    "A.backward()"
   ]
  },
  {
   "cell_type": "code",
   "execution_count": null,
   "metadata": {},
   "outputs": [],
   "source": []
  }
 ],
 "metadata": {
  "kernelspec": {
   "display_name": "Python 3",
   "language": "python",
   "name": "python3"
  },
  "language_info": {
   "codemirror_mode": {
    "name": "ipython",
    "version": 3
   },
   "file_extension": ".py",
   "mimetype": "text/x-python",
   "name": "python",
   "nbconvert_exporter": "python",
   "pygments_lexer": "ipython3",
   "version": "3.9.5"
  }
 },
 "nbformat": 4,
 "nbformat_minor": 4
}
